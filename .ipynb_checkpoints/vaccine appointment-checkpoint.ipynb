{
 "cells": [
  {
   "cell_type": "code",
   "execution_count": 2,
   "id": "checked-railway",
   "metadata": {},
   "outputs": [
    {
     "name": "stderr",
     "output_type": "stream",
     "text": [
      "[WDM] - ====== WebDriver manager ======\n",
      "[WDM] - Current google-chrome version is 89.0.4389\n",
      "[WDM] - Get LATEST driver version for 89.0.4389\n",
      "[WDM] - There is no [win32] chromedriver for browser 89.0.4389 in cache\n",
      "[WDM] - Get LATEST driver version for 89.0.4389\n",
      "[WDM] - Trying to download new driver from https://chromedriver.storage.googleapis.com/89.0.4389.23/chromedriver_win32.zip\n"
     ]
    },
    {
     "name": "stdout",
     "output_type": "stream",
     "text": [
      "\n",
      "\n"
     ]
    },
    {
     "name": "stderr",
     "output_type": "stream",
     "text": [
      "[WDM] - Driver has been saved in cache [C:\\Users\\lkk12\\.wdm\\drivers\\chromedriver\\win32\\89.0.4389.23]\n"
     ]
    }
   ],
   "source": [
    "from time import sleep\n",
    "from selenium import webdriver\n",
    "from webdriver_manager.chrome import ChromeDriverManager\n",
    "\n",
    "driver = webdriver.Chrome(ChromeDriverManager().install())"
   ]
  },
  {
   "cell_type": "code",
   "execution_count": 6,
   "id": "flying-trainer",
   "metadata": {},
   "outputs": [],
   "source": [
    "url = \"https://my.sa.ucsb.edu/gold/Login.aspx\"\n",
    "url = \"https://asap.pdllabs.com/non-ees/CottageUrgentCareHollisterVillage.aspx\"\n",
    "# url = \"https://asap.pdllabs.com/non-ees/CottageCovidVaccine.aspx\"\n",
    "driver.get(url)\n",
    "id_box = driver.find_element_by_name('FSDose')\n",
    "id_box.click()\n",
    "id_box = driver.find_element_by_name('YesNo')\n",
    "id_box.click()"
   ]
  },
  {
   "cell_type": "code",
   "execution_count": null,
   "id": "configured-sight",
   "metadata": {},
   "outputs": [],
   "source": [
    "url = \"https://mychart.sbch.org/mychart/openscheduling/SignupAndSchedule/EmbeddedSchedule?public=1&lang=english&vt=1170000443&dept=101001163\"\n",
    "driver.get(url)\n",
    "driver.refresh()\n",
    "while True:\n",
    "    driver.refresh()\n",
    "    if_stop = driver.page_source.find(\"Sorry\")\n",
    "    sleep(0.5)\n",
    "    if if_stop == -1:\n",
    "        break"
   ]
  }
 ],
 "metadata": {
  "kernelspec": {
   "display_name": "Python 3",
   "language": "python",
   "name": "python3"
  },
  "language_info": {
   "codemirror_mode": {
    "name": "ipython",
    "version": 3
   },
   "file_extension": ".py",
   "mimetype": "text/x-python",
   "name": "python",
   "nbconvert_exporter": "python",
   "pygments_lexer": "ipython3",
   "version": "3.8.5"
  }
 },
 "nbformat": 4,
 "nbformat_minor": 5
}
