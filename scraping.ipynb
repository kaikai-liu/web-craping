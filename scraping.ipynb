{
 "cells": [
  {
   "cell_type": "code",
   "execution_count": 13,
   "metadata": {},
   "outputs": [],
   "source": [
    "import requests\n",
    "import csv\n",
    "from bs4 import BeautifulSoup\n",
    "import pandas as pd"
   ]
  },
  {
   "cell_type": "markdown",
   "metadata": {},
   "source": [
    "## Select landing, month, year"
   ]
  },
  {
   "cell_type": "code",
   "execution_count": 178,
   "metadata": {},
   "outputs": [],
   "source": []
  },
  {
   "cell_type": "code",
   "execution_count": 179,
   "metadata": {},
   "outputs": [],
   "source": [
    "landing_dic = {'fishermans':['fishermans_landing','22'],\\\n",
    "          'seaforth':['seaforth_sportfishing','20'],\\\n",
    "           'point_loma':['point_loma_sportfishing','23']}\n",
    "month = '7'\n",
    "year = '2019'\n",
    "landing = landing_dic['point_loma']\n",
    "\n",
    "# write to csv\n",
    "# csv_file = open(landing[0]+'_'+year+'_'+month+'.csv','w', newline='')\n",
    "csv_file = open(landing[0]+'_'+year+'.csv','w', newline='')\n",
    "csv_writer = csv.writer(csv_file)\n",
    "\n",
    "for month in range(12):\n",
    "    month = str(month+1)\n",
    "    URL = 'https://www.sandiegofishreports.com/landings/'+landing[0]+'.php?landing_id='+landing[1]+'&month='+month+'&year='+year+'#historicals'\n",
    "    page = requests.get(URL)\n",
    "    soup = BeautifulSoup(page.content,'lxml')\n",
    "    tb_set = soup.find_all('tbody')\n",
    "\n",
    "    # each fish count category\n",
    "    fish_kinds = ['Bluefin','Yellowfin','Yellowtail','Barracuda','Calico']\n",
    "    # first table is daily landing counts\n",
    "    table_daily_landing_count = tb_set[0]\n",
    "    # tr finds table rows\n",
    "    rows = table_daily_landing_count.find_all('tr') \n",
    "    rows = rows[:-1]\n",
    "\n",
    "    # write header\n",
    "    row_text = rows[1].text.split('\\n')[1:-1]\n",
    "    row_text = row_text[:-1] + fish_kinds  # add fish kinds\n",
    "    if month == '1': csv_writer.writerow(row_text)\n",
    "\n",
    "    for row in rows[2:]:\n",
    "        row_text = row.text.split('\\n')[1:-1]\n",
    "\n",
    "        # find counts for different fish\n",
    "        raw_fish_counts = row_text[-1].replace(',','').split()\n",
    "        fish_counts = ['0']*len(fish_kinds)\n",
    "        for ii in range(len(fish_counts)):\n",
    "            for jj in range(len(raw_fish_counts)):\n",
    "                if fish_kinds[ii] in raw_fish_counts[jj]:\n",
    "                    fish_counts[ii] = raw_fish_counts[jj-1]\n",
    "\n",
    "        row_text = row_text[:-1] + fish_counts\n",
    "\n",
    "        # clean some text such as '5 boats' being '5'\n",
    "        if len(row_text) > 2:\n",
    "            row_text[1] = row_text[1].split()[0]\n",
    "            row_text[2] = row_text[2].split()[0]\n",
    "        csv_writer.writerow(row_text)\n",
    "\n",
    "csv_file.close()"
   ]
  },
  {
   "cell_type": "code",
   "execution_count": 180,
   "metadata": {},
   "outputs": [],
   "source": []
  },
  {
   "cell_type": "code",
   "execution_count": 167,
   "metadata": {},
   "outputs": [],
   "source": [
    "# each fish count category\n",
    "month = '2'\n",
    "fish_kinds = ['Bulefin','Yellowfin','Yellowtail','Barracuda','Calico','Lingcod','Rockfish']\n",
    "# first table is daily landing counts\n",
    "table_daily_landing_count = tb_set[0]\n",
    "# tr finds table rows\n",
    "rows = table_daily_landing_count.find_all('tr') \n",
    "\n",
    "# write to csv\n",
    "csv_file = open(landing[0]+'_'+year+'_'+month+'.csv','w', newline='')\n",
    "csv_writer = csv.writer(csv_file)\n",
    "# write header\n",
    "row_text = rows[1].text.split('\\n')[1:-1]\n",
    "row_text = row_text[:-1] + fish_kinds  # add fish kinds\n",
    "csv_writer.writerow(row_text)\n",
    "    \n",
    "for row in rows[2:-1]:\n",
    "    row_text = row.text.split('\\n')[1:-1]\n",
    "    \n",
    "#     # find counts for different fish\n",
    "#     raw_fish_counts = row_text[-1].split(', ')\n",
    "#     fish_counts = ['0']*len(fish_kinds)\n",
    "#     for ii in range(len(fish_counts)):\n",
    "#         for jj in range(len(raw_fish_counts)):\n",
    "#             if fish_kinds[ii] in raw_fish_counts[jj]:\n",
    "#                 fish_counts[ii] = raw_fish_counts[jj-1]\n",
    "    \n",
    "#     row_text = row_text[:-1] + fish_counts\n",
    "    \n",
    "    # clean some text such as '5 boats' being '5'\n",
    "    if len(row_text) > 2:\n",
    "        row_text[1] = row_text[1].split()[0]\n",
    "        row_text[2] = row_text[2].split()[0]\n",
    "    csv_writer.writerow(row_text)\n",
    "\n",
    "csv_file.close()"
   ]
  }
 ],
 "metadata": {
  "kernelspec": {
   "display_name": "Python 3",
   "language": "python",
   "name": "python3"
  },
  "language_info": {
   "codemirror_mode": {
    "name": "ipython",
    "version": 3
   },
   "file_extension": ".py",
   "mimetype": "text/x-python",
   "name": "python",
   "nbconvert_exporter": "python",
   "pygments_lexer": "ipython3",
   "version": "3.7.6"
  }
 },
 "nbformat": 4,
 "nbformat_minor": 4
}
